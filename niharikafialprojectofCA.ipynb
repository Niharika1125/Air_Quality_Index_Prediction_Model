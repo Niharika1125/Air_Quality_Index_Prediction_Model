{
  "nbformat": 4,
  "nbformat_minor": 0,
  "metadata": {
    "colab": {
      "provenance": []
    },
    "kernelspec": {
      "name": "python3",
      "display_name": "Python 3"
    },
    "language_info": {
      "name": "python"
    }
  },
  "cells": [
    {
      "cell_type": "code",
      "execution_count": null,
      "metadata": {
        "id": "YuGPm9lxVgKx"
      },
      "outputs": [],
      "source": [
        "import numpy as np\n",
        "import pandas as pd\n",
        "from sklearn.preprocessing import StandardScaler"
      ]
    },
    {
      "cell_type": "code",
      "source": [
        "# Load the dataset\n",
        "from google.colab import drive\n",
        "\n",
        "# Mount Google Drive\n",
        "drive.mount('/content/drive')\n",
        "\n",
        "# Load the dataset\n",
        "data = pd.read_csv('/content/drive/MyDrive/datasets/Air_Qualitydatasetcsv.csv') # Assuming the file is in this path\n",
        "\n"
      ],
      "metadata": {
        "colab": {
          "base_uri": "https://localhost:8080/"
        },
        "id": "9FNcrvqAVuFZ",
        "outputId": "86d18f99-d84d-4d8d-a8b8-8c3cd3302441"
      },
      "execution_count": null,
      "outputs": [
        {
          "output_type": "stream",
          "name": "stdout",
          "text": [
            "Drive already mounted at /content/drive; to attempt to forcibly remount, call drive.mount(\"/content/drive\", force_remount=True).\n"
          ]
        }
      ]
    },
    {
      "cell_type": "code",
      "source": [
        "\n",
        "# Create a mapping from Geo Place Name to Geo Join ID\n",
        "geo_mapping = data[['Geo Place Name', 'Geo Join ID']].drop_duplicates().set_index('Geo Place Name').to_dict()['Geo Join ID']\n",
        "\n",
        "# Function to preprocess user input\n",
        "def preprocess_input(start_date, geo_place_name):\n",
        "    # Extract the year from Start_Date\n",
        "    year = int(pd.to_datetime(start_date).year)\n",
        "\n",
        "    # Get Geo Join ID from Geo Place Name\n",
        "    geo_join_id = geo_mapping.get(geo_place_name, None)\n",
        "    if geo_join_id is None:\n",
        "        raise ValueError(f\"Geo Place Name '{geo_place_name}' not found in the dataset.\")\n",
        "\n",
        "    # Create a feature vector\n",
        "    features = np.array([[geo_join_id, year]])\n",
        "\n",
        "    # Normalize the features (using the same scaler as during training)\n",
        "    scaler = StandardScaler()\n",
        "    X_train = data[['Geo Join ID', 'Time Period']]\n",
        "    X_train['Time Period'] = X_train['Time Period'].apply(lambda x: int(x.split()[-1]))\n",
        "    scaler.fit(X_train)  # Fit the scaler on the training data\n",
        "    features_scaled = scaler.transform(features)\n",
        "\n",
        "    # Add a column of ones for the bias term\n",
        "    features_scaled = np.c_[np.ones(features_scaled.shape[0]), features_scaled]\n",
        "\n",
        "    return features_scaled\n",
        "\n",
        "# Function to predict Data Value\n",
        "def predict_data_value(theta, start_date, geo_place_name):\n",
        "    # Preprocess the input\n",
        "    features = preprocess_input(start_date, geo_place_name)\n",
        "\n",
        "    # Make prediction\n",
        "    prediction = features.dot(theta)\n",
        "    return prediction[0]\n"
      ],
      "metadata": {
        "id": "14X3SlPmVq-4"
      },
      "execution_count": null,
      "outputs": []
    },
    {
      "cell_type": "code",
      "source": [
        "# Example usage\n",
        "if __name__ == \"__main__\":\n",
        "    # Trained model parameters (replace with your actual theta values)\n",
        "    theta = np.array([0.5, 0.3, -0.2])  # Example values\n",
        "\n",
        "    # Get user input\n",
        "    start_date = input(\"Enter Start Date (MM/DD/YYYY): \")\n",
        "    geo_place_name = input(\"Enter Geo Place Name: \")\n",
        "\n",
        "    # Predict Data Value\n",
        "    try:\n",
        "        prediction = predict_data_value(theta, start_date, geo_place_name)\n",
        "        print(f\"Predicted Data Value for {geo_place_name} on {start_date}: {prediction:.2f}\")\n",
        "    except ValueError as e:\n",
        "        print(e)"
      ],
      "metadata": {
        "colab": {
          "base_uri": "https://localhost:8080/"
        },
        "id": "B6gCcMFUWAAe",
        "outputId": "0c0be7d1-e0ef-4468-98fb-5211e06ea38a"
      },
      "execution_count": null,
      "outputs": [
        {
          "output_type": "stream",
          "name": "stdout",
          "text": [
            "Enter Start Date (MM/DD/YYYY): 01/01/2005\n",
            "Enter Geo Place Name: East New York\n",
            "Predicted Data Value for East New York on 01/01/2005: 1.09\n"
          ]
        },
        {
          "output_type": "stream",
          "name": "stderr",
          "text": [
            "<ipython-input-16-b5616bef8c41>:20: SettingWithCopyWarning: \n",
            "A value is trying to be set on a copy of a slice from a DataFrame.\n",
            "Try using .loc[row_indexer,col_indexer] = value instead\n",
            "\n",
            "See the caveats in the documentation: https://pandas.pydata.org/pandas-docs/stable/user_guide/indexing.html#returning-a-view-versus-a-copy\n",
            "  X_train['Time Period'] = X_train['Time Period'].apply(lambda x: int(x.split()[-1]))\n",
            "/usr/local/lib/python3.11/dist-packages/sklearn/utils/validation.py:2739: UserWarning: X does not have valid feature names, but StandardScaler was fitted with feature names\n",
            "  warnings.warn(\n"
          ]
        }
      ]
    }
  ]
}